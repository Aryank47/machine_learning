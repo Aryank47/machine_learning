{
  "cells": [
    {
      "cell_type": "markdown",
      "metadata": {
        "id": "view-in-github",
        "colab_type": "text"
      },
      "source": [
        "<a href=\"https://colab.research.google.com/github/Aryank47/machine_learning/blob/master/red_wine_quality.ipynb\" target=\"_parent\"><img src=\"https://colab.research.google.com/assets/colab-badge.svg\" alt=\"Open In Colab\"/></a>"
      ]
    },
    {
      "cell_type": "code",
      "execution_count": 18,
      "metadata": {
        "id": "c6nggDzyG4sB"
      },
      "outputs": [],
      "source": [
        "import pandas as pd\n",
        "import numpy as np\n",
        "from sklearn.model_selection import train_test_split, GridSearchCV,learning_curve\n",
        "from sklearn.tree import DecisionTreeClassifier\n",
        "from sklearn.ensemble import RandomForestClassifier\n",
        "from xgboost import XGBClassifier\n",
        "from sklearn.metrics import accuracy_score, precision_score, recall_score, f1_score, confusion_matrix,roc_curve, auc\n",
        "import matplotlib.pyplot as plt\n",
        "import seaborn as sns\n",
        "from sklearn.tree import plot_tree\n",
        "from sklearn.preprocessing import label_binarize\n",
        "from sklearn.model_selection import RandomizedSearchCV"
      ]
    },
    {
      "cell_type": "code",
      "execution_count": 19,
      "metadata": {
        "id": "oqClYo02o7TA"
      },
      "outputs": [],
      "source": [
        "# Load the dataset\n",
        "df = pd.read_csv('wine_data.csv')"
      ]
    },
    {
      "cell_type": "code",
      "execution_count": 20,
      "metadata": {
        "colab": {
          "base_uri": "https://localhost:8080/"
        },
        "id": "HRQCITvgHCdO",
        "outputId": "0aac918a-095a-4747-ac1c-23ae66e7d482"
      },
      "outputs": [
        {
          "output_type": "stream",
          "name": "stdout",
          "text": [
            "<class 'pandas.core.frame.DataFrame'>\n",
            "RangeIndex: 1599 entries, 0 to 1598\n",
            "Data columns (total 12 columns):\n",
            " #   Column                Non-Null Count  Dtype  \n",
            "---  ------                --------------  -----  \n",
            " 0   fixed acidity         1599 non-null   float64\n",
            " 1   volatile acidity      1599 non-null   float64\n",
            " 2   citric acid           1599 non-null   float64\n",
            " 3   residual sugar        1599 non-null   float64\n",
            " 4   chlorides             1599 non-null   float64\n",
            " 5   free sulfur dioxide   1599 non-null   float64\n",
            " 6   total sulfur dioxide  1599 non-null   float64\n",
            " 7   density               1599 non-null   float64\n",
            " 8   pH                    1599 non-null   float64\n",
            " 9   sulphates             1599 non-null   float64\n",
            " 10  alcohol               1599 non-null   float64\n",
            " 11  quality               1599 non-null   int64  \n",
            "dtypes: float64(11), int64(1)\n",
            "memory usage: 150.0 KB\n",
            "None\n",
            "       fixed acidity  volatile acidity  citric acid  residual sugar  \\\n",
            "count    1599.000000       1599.000000  1599.000000     1599.000000   \n",
            "mean        8.319637          0.527821     0.270976        2.538806   \n",
            "std         1.741096          0.179060     0.194801        1.409928   \n",
            "min         4.600000          0.120000     0.000000        0.900000   \n",
            "25%         7.100000          0.390000     0.090000        1.900000   \n",
            "50%         7.900000          0.520000     0.260000        2.200000   \n",
            "75%         9.200000          0.640000     0.420000        2.600000   \n",
            "max        15.900000          1.580000     1.000000       15.500000   \n",
            "\n",
            "         chlorides  free sulfur dioxide  total sulfur dioxide      density  \\\n",
            "count  1599.000000          1599.000000           1599.000000  1599.000000   \n",
            "mean      0.087467            15.874922             46.467792     0.996747   \n",
            "std       0.047065            10.460157             32.895324     0.001887   \n",
            "min       0.012000             1.000000              6.000000     0.990070   \n",
            "25%       0.070000             7.000000             22.000000     0.995600   \n",
            "50%       0.079000            14.000000             38.000000     0.996750   \n",
            "75%       0.090000            21.000000             62.000000     0.997835   \n",
            "max       0.611000            72.000000            289.000000     1.003690   \n",
            "\n",
            "                pH    sulphates      alcohol      quality  \n",
            "count  1599.000000  1599.000000  1599.000000  1599.000000  \n",
            "mean      3.311113     0.658149    10.422983     5.636023  \n",
            "std       0.154386     0.169507     1.065668     0.807569  \n",
            "min       2.740000     0.330000     8.400000     3.000000  \n",
            "25%       3.210000     0.550000     9.500000     5.000000  \n",
            "50%       3.310000     0.620000    10.200000     6.000000  \n",
            "75%       3.400000     0.730000    11.100000     6.000000  \n",
            "max       4.010000     2.000000    14.900000     8.000000  \n"
          ]
        }
      ],
      "source": [
        "# Display basic information about the dataset\n",
        "print(df.info())\n",
        "print(df.describe())"
      ]
    },
    {
      "cell_type": "code",
      "execution_count": 21,
      "metadata": {
        "colab": {
          "base_uri": "https://localhost:8080/"
        },
        "id": "_Uz413BoHFYg",
        "outputId": "0325f55c-4d2d-4dc3-d185-0bb354ca1e71"
      },
      "outputs": [
        {
          "output_type": "stream",
          "name": "stdout",
          "text": [
            "Most frequent wine quality: 5\n",
            "Lowest quality: 3\n",
            "Highest quality: 8\n"
          ]
        }
      ],
      "source": [
        "print(\"Most frequent wine quality:\", df['quality'].mode()[0])\n",
        "print(\"Lowest quality:\", df['quality'].min())\n",
        "print(\"Highest quality:\", df['quality'].max())"
      ]
    },
    {
      "cell_type": "code",
      "execution_count": 22,
      "metadata": {
        "colab": {
          "base_uri": "https://localhost:8080/",
          "height": 699
        },
        "id": "BHApM6F2HGAp",
        "outputId": "d0720ed1-eb41-4198-ea5d-4a649c129877"
      },
      "outputs": [
        {
          "output_type": "display_data",
          "data": {
            "text/plain": [
              "<Figure size 1000x800 with 2 Axes>"
            ],
            "image/png": "[encoded data removed]"
          },
          "metadata": {}
        }
      ],
      "source": [
        "correlations = df[['fixed acidity', 'alcohol', 'free sulfur dioxide', 'quality']].corr()\n",
        "plt.figure(figsize=(10, 8))\n",
        "sns.heatmap(correlations, annot=True, cmap='coolwarm')\n",
        "plt.title('Correlation Heatmap')\n",
        "plt.show()"
      ]
    },
    {
      "cell_type": "code",
      "execution_count": 23,
      "metadata": {
        "colab": {
          "base_uri": "https://localhost:8080/"
        },
        "id": "P2aIcvWNHGlm",
        "outputId": "46b6eece-0e9c-4bbc-a17e-257f1c356894"
      },
      "outputs": [
        {
          "output_type": "stream",
          "name": "stdout",
          "text": [
            "Average residual sugar for best quality wine (8): 2.5777777777777775\n",
            "Average residual sugar for lowest quality wine (3): 2.6350000000000002\n"
          ]
        }
      ],
      "source": [
        "best_quality = df['quality'].max()\n",
        "lowest_quality = df['quality'].min()\n",
        "\n",
        "print(f\"Average residual sugar for best quality wine ({best_quality}):\",\n",
        "      df[df['quality'] == best_quality]['residual sugar'].mean())\n",
        "print(f\"Average residual sugar for lowest quality wine ({lowest_quality}):\",\n",
        "      df[df['quality'] == lowest_quality]['residual sugar'].mean())"
      ]
    },
    {
      "cell_type": "code",
      "execution_count": 24,
      "metadata": {
        "colab": {
          "base_uri": "https://localhost:8080/",
          "height": 581
        },
        "id": "9ixjIlglHG6w",
        "outputId": "986b760e-540b-4ccc-85ac-aea9b1b88fb6"
      },
      "outputs": [
        {
          "output_type": "display_data",
          "data": {
            "text/plain": [
              "<Figure size 1000x600 with 1 Axes>"
            ],
            "image/png": "[encoded data removed]"
          },
          "metadata": {}
        },
        {
          "output_type": "stream",
          "name": "stdout",
          "text": [
            "Correlation between volatile acidity and quality: -0.39\n"
          ]
        }
      ],
      "source": [
        "plt.figure(figsize=(10, 6))\n",
        "sns.boxplot(x='quality', y='volatile acidity', data=df)\n",
        "plt.title('Volatile Acidity vs. Wine Quality')\n",
        "plt.show()\n",
        "\n",
        "correlation = df['volatile acidity'].corr(df['quality'])\n",
        "print(f\"Correlation between volatile acidity and quality: {correlation:.2f}\")"
      ]
    },
    {
      "cell_type": "code",
      "execution_count": 25,
      "metadata": {
        "id": "9WgNi859nKSZ"
      },
      "outputs": [],
      "source": [
        "df['acidity_ratio'] = df['fixed acidity'] / df['volatile acidity']\n",
        "df['sugar_to_alcohol_ratio'] = df['residual sugar'] / df['alcohol']"
      ]
    },
    {
      "cell_type": "code",
      "execution_count": 26,
      "metadata": {
        "id": "OrZT6RBNG7Cf"
      },
      "outputs": [],
      "source": [
        "# Prepare the data\n",
        "X = df.drop('quality', axis=1)\n",
        "y = df['quality']\n",
        "\n",
        "# Split the data\n",
        "X_train, X_test, y_train, y_test = train_test_split(X, y, test_size=0.2, random_state=42)\n",
        "from imblearn.over_sampling import SMOTE\n",
        "\n",
        "smote = SMOTE(random_state=42)\n",
        "X_train, y_train = smote.fit_resample(X_train, y_train)"
      ]
    },
    {
      "cell_type": "code",
      "execution_count": 27,
      "metadata": {
        "id": "Y-9uc3cLCId3"
      },
      "outputs": [],
      "source": [
        "# Function to plot confusion matrix\n",
        "def plot_confusion_matrix(y_true, y_pred, title):\n",
        "    cm = confusion_matrix(y_true, y_pred)\n",
        "    plt.figure(figsize=(10, 8))\n",
        "    sns.heatmap(cm, annot=True, fmt='d', cmap='Blues')\n",
        "    plt.title(title)\n",
        "    plt.ylabel('True label')\n",
        "    plt.xlabel('Predicted label')\n",
        "    plt.tight_layout()\n",
        "    plt.show()\n",
        "\n",
        "\n",
        "# Function to plot model metrics\n",
        "def plot_model_metrics(results, title):\n",
        "    plt.figure(figsize=(12, 6))\n",
        "    x = np.arange(len(results) // 2)\n",
        "    width = 0.35\n",
        "\n",
        "    plt.bar(x - width/2, [results[f'Train {m}'] for m in ['Accuracy', 'Precision', 'Recall', 'F1-score']],\n",
        "            width, label='Train', alpha=0.8)\n",
        "    plt.bar(x + width/2, [results[f'Test {m}'] for m in ['Accuracy', 'Precision', 'Recall', 'F1-score']],\n",
        "            width, label='Test', alpha=0.8)\n",
        "\n",
        "    plt.ylabel('Score')\n",
        "    plt.title(f'{title} Metrics')\n",
        "    plt.xticks(x, ['Accuracy', 'Precision', 'Recall', 'F1-score'])\n",
        "    plt.legend()\n",
        "    plt.tight_layout()\n",
        "    plt.show()\n",
        "\n",
        "# Function to plot feature importance\n",
        "def plot_feature_importance(model, X, title):\n",
        "    if hasattr(model, 'feature_importances_'):\n",
        "        importances = model.feature_importances_\n",
        "    elif hasattr(model, 'best_estimator_'):\n",
        "        importances = model.best_estimator_.feature_importances_\n",
        "    else:\n",
        "        print(\"Model doesn't have feature importances\")\n",
        "        return\n",
        "\n",
        "    feature_imp = pd.DataFrame({'Feature': X.columns, 'Importance': importances})\n",
        "    feature_imp = feature_imp.sort_values('Importance', ascending=False)\n",
        "\n",
        "    plt.figure(figsize=(10, 6))\n",
        "    sns.barplot(x='Importance', y='Feature', data=feature_imp)\n",
        "    plt.title(f'{title} - Feature Importance')\n",
        "    plt.tight_layout()\n",
        "    plt.show()\n",
        "\n",
        "# Function to plot learning curve\n",
        "def plot_learning_curve(estimator, X, y, title):\n",
        "    train_sizes, train_scores, test_scores = learning_curve(\n",
        "        estimator, X, y, cv=5, n_jobs=-1,\n",
        "        train_sizes=np.linspace(0.1, 1.0, 5))\n",
        "\n",
        "    train_scores_mean = np.mean(train_scores, axis=1)\n",
        "    test_scores_mean = np.mean(test_scores, axis=1)\n",
        "\n",
        "    plt.figure(figsize=(10, 6))\n",
        "    plt.plot(train_sizes, train_scores_mean, 'o-', color=\"r\", label=\"Training score\")\n",
        "    plt.plot(train_sizes, test_scores_mean, 'o-', color=\"g\", label=\"Cross-validation score\")\n",
        "    plt.title(f'{title} - Learning Curve')\n",
        "    plt.xlabel(\"Training examples\")\n",
        "    plt.ylabel(\"Score\")\n",
        "    plt.legend(loc=\"best\")\n",
        "    plt.tight_layout()\n",
        "    plt.show()\n",
        "\n",
        "# Function to plot prediction error\n",
        "def plot_prediction_error(y_true, y_pred, title):\n",
        "    plt.figure(figsize=(10, 6))\n",
        "    plt.scatter(y_true, y_pred, alpha=0.5)\n",
        "    plt.plot([y_true.min(), y_true.max()], [y_true.min(), y_true.max()], 'r--', lw=2)\n",
        "    plt.xlabel('Actual Quality')\n",
        "    plt.ylabel('Predicted Quality')\n",
        "    plt.title(f'{title} - Prediction Error')\n",
        "    plt.tight_layout()\n",
        "    plt.show()\n",
        "\n",
        "# Function to plot ROC curve\n",
        "def plot_roc_curve(y_true, y_pred_proba, title):\n",
        "    y_bin = label_binarize(y_true, classes=np.unique(y_true))\n",
        "    n_classes = y_bin.shape[1]\n",
        "\n",
        "    fpr = dict()\n",
        "    tpr = dict()\n",
        "    roc_auc = dict()\n",
        "    for i in range(n_classes):\n",
        "        fpr[i], tpr[i], _ = roc_curve(y_bin[:, i], y_pred_proba[:, i])\n",
        "        roc_auc[i] = auc(fpr[i], tpr[i])\n",
        "\n",
        "    plt.figure(figsize=(10, 6))\n",
        "    for i in range(n_classes):\n",
        "        plt.plot(fpr[i], tpr[i], label=f'ROC curve (class {i}) (AUC = {roc_auc[i]:0.2f})')\n",
        "\n",
        "    plt.plot([0, 1], [0, 1], 'k--')\n",
        "    plt.xlim([0.0, 1.0])\n",
        "    plt.ylim([0.0, 1.05])\n",
        "    plt.xlabel('False Positive Rate')\n",
        "    plt.ylabel('True Positive Rate')\n",
        "    plt.title(f'{title} - ROC Curve')\n",
        "    plt.legend(loc=\"lower right\")\n",
        "    plt.tight_layout()\n",
        "    plt.show()\n",
        "\n",
        "# Function to plot grid search results\n",
        "def plot_grid_search_results(grid_result, param_name, title):\n",
        "    means = grid_result.cv_results_['mean_test_score']\n",
        "    stds = grid_result.cv_results_['std_test_score']\n",
        "    params = grid_result.cv_results_['params']\n",
        "\n",
        "    plt.figure(figsize=(10, 6))\n",
        "    plt.errorbar(range(len(means)), means, yerr=stds, fmt='o')\n",
        "    plt.title(f'{title} - Grid Search Results for {param_name}')\n",
        "    plt.xlabel('Model Number')\n",
        "    plt.ylabel('Mean CV Score')\n",
        "    plt.tight_layout()\n",
        "    plt.show()\n",
        "\n",
        "    print(f\"Best {param_name}:\", grid_result.best_params_[param_name])\n",
        "    print(f\"Best score: {grid_result.best_score_:.4f}\")\n",
        "\n",
        "# Function to evaluate and plot model performance\n",
        "def evaluate_model(model, X_train, X_test, y_train, y_test, title):\n",
        "    if isinstance(model, GridSearchCV):\n",
        "        model.fit(X_train, y_train)\n",
        "        best_model = model.best_estimator_\n",
        "    else:\n",
        "        model.fit(X_train, y_train)\n",
        "        best_model = model\n",
        "\n",
        "    y_pred = best_model.predict(X_test)\n",
        "    y_train_pred = best_model.predict(X_train)\n",
        "    y_pred_proba = best_model.predict_proba(X_test)\n",
        "\n",
        "    metrics = {\n",
        "        'Accuracy': (accuracy_score, {}),\n",
        "        'Precision': (precision_score, {'average': 'weighted'}),\n",
        "        'Recall': (recall_score, {'average': 'weighted'}),\n",
        "        'F1-score': (f1_score, {'average': 'weighted'})\n",
        "    }\n",
        "\n",
        "    results = {}\n",
        "    for metric_name, (metric_func, metric_kwargs) in metrics.items():\n",
        "        train_score = metric_func(y_train, y_train_pred, **metric_kwargs)\n",
        "        test_score = metric_func(y_test,y_pred, **metric_kwargs)\n",
        "        results[f'Train {metric_name}'] = train_score\n",
        "        results[f'Test {metric_name}'] = test_score\n",
        "        print(f\"{metric_name} - Train: {train_score:.4f}, Test: {test_score:.4f}\")\n",
        "\n",
        "    accuracy = accuracy_score(y_test, y_pred)\n",
        "    print(f\"{title} Accuracy: {accuracy:.4f}\")\n",
        "\n",
        "    plot_feature_importance(best_model, X, title)\n",
        "    if title==\"XGBoost\":\n",
        "        plot_learning_curve(best_model, X, y-3, title)\n",
        "    else:\n",
        "        plot_learning_curve(best_model, X, y, title)\n",
        "    plot_prediction_error(y_test, y_pred, title)\n",
        "    plot_confusion_matrix(y_test, y_pred, title)\n",
        "    plot_roc_curve(y_test, y_pred_proba, title)\n",
        "\n",
        "    return results"
      ]
    },
    {
      "cell_type": "code",
      "execution_count": null,
      "metadata": {
        "id": "TCWLJptcD_7g"
      },
      "outputs": [],
      "source": [
        "# Decision Tree with Grid Search\n",
        "dt_params = {\n",
        "    'criterion': ['gini', 'entropy'],\n",
        "    'splitter': ['best', 'random'],\n",
        "    'max_depth': [None, 10, 20, 30, 40, 50],\n",
        "    'min_samples_split': [2, 5, 10],\n",
        "    'min_samples_leaf': [1, 2, 4],\n",
        "    'min_weight_fraction_leaf': [0.0, 0.1, 0.2],\n",
        "    'max_features': ['sqrt', 'log2', None],\n",
        "    'max_leaf_nodes': [None, 10, 20, 30, 40, 50],\n",
        "    'min_impurity_decrease': [0.0, 0.1, 0.2],\n",
        "    'class_weight': [None, 'balanced'],\n",
        "    'ccp_alpha': [0.0, 0.1, 0.2]\n",
        "}\n",
        "\n",
        "dt = GridSearchCV(DecisionTreeClassifier(random_state=42, ccp_alpha=0.01), dt_params, cv=5, n_jobs=-1)\n",
        "dt.fit(X_train, y_train)\n",
        "plot_grid_search_results(dt, 'max_depth', \"Decision Tree\")\n",
        "dt_results=evaluate_model(dt, X_train, X_test, y_train, y_test, \"Decision Tree\")"
      ]
    },
    {
      "cell_type": "code",
      "execution_count": null,
      "metadata": {
        "id": "1zuan4SvoDKZ"
      },
      "outputs": [],
      "source": [
        "plt.figure(figsize=(20,10))\n",
        "plot_tree(dt.best_estimator_, feature_names=X.columns, class_names=True, filled=True, rounded=True)\n",
        "plt.show()"
      ]
    },
    {
      "cell_type": "code",
      "execution_count": null,
      "metadata": {
        "colab": {
          "background_save": true
        },
        "id": "uob_luDvEB_S"
      },
      "outputs": [],
      "source": [
        "# Random Forest with Grid Search\n",
        "rf_params = {\n",
        "    'n_estimators': [100, 200, 300, 500],\n",
        "    'criterion': ['gini', 'entropy'],\n",
        "    'max_depth': [None, 10, 20, 30, 40, 50],\n",
        "    'min_samples_split': [2, 5, 10],\n",
        "    'min_samples_leaf': [1, 2, 4],\n",
        "    'min_weight_fraction_leaf': [0.0, 0.1, 0.2],\n",
        "    'max_features': ['sqrt', 'log2'],\n",
        "    'max_leaf_nodes': [None, 10, 20, 30, 40, 50],\n",
        "    'min_impurity_decrease': [0.0, 0.1, 0.2],\n",
        "    'bootstrap': [True, False],\n",
        "    'oob_score': [False, True],\n",
        "    'warm_start': [False, True],\n",
        "    'class_weight': [None, 'balanced', 'balanced_subsample'],\n",
        "    'ccp_alpha': [0.0, 0.1, 0.2],\n",
        "    'max_samples': [None, 0.5, 0.7, 0.9]\n",
        "}\n",
        "rf = GridSearchCV(RandomForestClassifier(random_state=42), rf_params, cv=5, n_jobs=-1)\n",
        "rf.fit(X_train, y_train)\n",
        "plot_grid_search_results(rf, 'n_estimators', \"Random Forest\")\n",
        "rf_results=evaluate_model(rf, X_train, X_test, y_train, y_test, \"Random Forest\")"
      ]
    },
    {
      "cell_type": "code",
      "execution_count": null,
      "metadata": {
        "id": "P2eoo5JdECVQ"
      },
      "outputs": [],
      "source": [
        "# XGBoost with Grid Search\n",
        "xgb_params = {\n",
        "    # Tree Booster Parameters\n",
        "    'n_estimators': [100, 200, 300, 500],\n",
        "    'max_depth': [3, 4, 5, 6, 7, 8],\n",
        "    'learning_rate': [0.01, 0.05, 0.1, 0.2, 0.3],\n",
        "    'subsample': [0.6, 0.7, 0.8, 0.9, 1.0],\n",
        "    'colsample_bytree': [0.6, 0.7, 0.8, 0.9, 1.0],\n",
        "    'colsample_bylevel': [0.6, 0.7, 0.8, 0.9, 1.0],\n",
        "    'colsample_bynode': [0.6, 0.7, 0.8, 0.9, 1.0],\n",
        "    'min_child_weight': [1, 3, 5, 7],\n",
        "    'gamma': [0, 0.1, 0.2, 0.3, 0.4],\n",
        "    'reg_alpha': [0, 0.1, 1, 10],\n",
        "    'reg_lambda': [0, 0.1, 1, 10],\n",
        "\n",
        "    # Dart Booster Parameters (if using 'dart' booster)\n",
        "    # 'booster': ['gbtree', 'dart'],\n",
        "    # 'sample_type': ['uniform', 'weighted'],\n",
        "    # 'normalize_type': ['tree', 'forest'],\n",
        "    # 'rate_drop': [0.1, 0.2, 0.3, 0.4, 0.5],\n",
        "    # 'skip_drop': [0.1, 0.2, 0.3, 0.4, 0.5],\n",
        "\n",
        "    # Learning Task Parameters\n",
        "    'objective': ['multi:softprob'],  # for multi-class classification\n",
        "    'eval_metric': ['mlogloss', 'merror'],  # logloss and error rate for multi-class\n",
        "\n",
        "    # CPU/GPU Parameters\n",
        "    # 'tree_method': ['auto', 'exact', 'approx', 'hist'],\n",
        "    # 'gpu_id': [0],  # Uncomment if using GPU\n",
        "    # 'predictor': ['auto', 'cpu_predictor', 'gpu_predictor'],  # Uncomment if using GPU\n",
        "}\n",
        "\n",
        "\n",
        "# Adjust target labels to start from 0\n",
        "y_train_adjusted = y_train - 3\n",
        "y_test_adjusted = y_test - 3\n",
        "xgb = GridSearchCV(XGBClassifier(random_state=42), xgb_params, cv=5, n_jobs=-1)\n",
        "xgb.fit(X_train, y_train_adjusted)  # Fit with adjusted labels\n",
        "plot_grid_search_results(xgb, 'max_depth', \"XGBoost\")\n",
        "xgb_results=evaluate_model(xgb, X_train, X_test, y_train_adjusted, y_test_adjusted, \"XGBoost\")"
      ]
    },
    {
      "cell_type": "code",
      "execution_count": null,
      "metadata": {
        "id": "UUu73SQvQ8VE"
      },
      "outputs": [],
      "source": [
        "# Compare final models\n",
        "models = [dt, rf, xgb]\n",
        "model_names = ['Decision Tree', 'Random Forest', 'XGBoost']\n",
        "\n",
        "accuracies = []\n",
        "for index,model in enumerate(models):\n",
        "    y_pred = model.predict(X_test)\n",
        "    if index==2:\n",
        "        accuracies.append(accuracy_score(y_test_adjusted, y_pred))\n",
        "    else:\n",
        "        accuracies.append(accuracy_score(y_test, y_pred))\n",
        "\n",
        "plt.figure(figsize=(10, 6))\n",
        "plt.bar(model_names, accuracies)\n",
        "plt.title('Model Comparison - Accuracy')\n",
        "plt.ylabel('Accuracy')\n",
        "plt.ylim(0, 1)\n",
        "for i, v in enumerate(accuracies):\n",
        "    plt.text(i, v, f'{v:.2f}', ha='center', va='bottom')\n",
        "plt.tight_layout()\n",
        "plt.show()"
      ]
    },
    {
      "cell_type": "code",
      "execution_count": null,
      "metadata": {
        "id": "WgE1SE-QZj9Z"
      },
      "outputs": [],
      "source": [
        "# Compare final models\n",
        "models = [dt.best_estimator_, rf.best_estimator_, xgb.best_estimator_]\n",
        "model_names = ['Decision Tree', 'Random Forest', 'XGBoost']\n",
        "\n",
        "plt.figure(figsize=(14, 8))\n",
        "x = np.arange(len(model_names))\n",
        "width = 0.2\n",
        "\n",
        "metrics = ['Accuracy', 'Precision', 'Recall', 'F1-score']\n",
        "for i, metric in enumerate(metrics):\n",
        "    plt.bar(x + i*width, [results[f'Test {metric}'] for results in [dt_results, rf_results, xgb_results]],\n",
        "            width, label=metric, alpha=0.8)\n",
        "\n",
        "plt.ylabel('Score')\n",
        "plt.title('Model Comparison')\n",
        "plt.xticks(x + width*1.5, model_names)\n",
        "plt.legend(loc='lower right')\n",
        "plt.tight_layout()\n",
        "plt.show()"
      ]
    }
  ],
  "metadata": {
    "colab": {
      "provenance": [],
      "authorship_tag": "ABX9TyOba3UVf505g0/Oz40WaHOq",
      "include_colab_link": true
    },
    "kernelspec": {
      "display_name": "Python 3",
      "name": "python3"
    },
    "language_info": {
      "name": "python"
    }
  },
  "nbformat": 4,
  "nbformat_minor": 0
}