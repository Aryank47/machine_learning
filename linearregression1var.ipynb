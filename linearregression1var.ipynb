{
 "cells": [
  {
   "cell_type": "code",
   "execution_count": 1,
   "metadata": {},
   "outputs": [
    {
     "name": "stdout",
     "output_type": "stream",
     "text": [
      "hello world\n"
     ]
    }
   ],
   "source": [
    "print('hello world')"
   ]
  },
  {
   "cell_type": "code",
   "execution_count": 2,
   "metadata": {},
   "outputs": [
    {
     "name": "stdout",
     "output_type": "stream",
     "text": [
      "11\n"
     ]
    }
   ],
   "source": [
    "x=11\n",
    "print(x)"
   ]
  },
  {
   "cell_type": "code",
   "execution_count": 3,
   "metadata": {},
   "outputs": [],
   "source": [
    "import numpy as np"
   ]
  },
  {
   "cell_type": "code",
   "execution_count": 4,
   "metadata": {},
   "outputs": [],
   "source": [
    "a=np.array([1,2,3,4,5,6])"
   ]
  },
  {
   "cell_type": "code",
   "execution_count": 5,
   "metadata": {},
   "outputs": [
    {
     "data": {
      "text/plain": [
       "numpy.ndarray"
      ]
     },
     "execution_count": 5,
     "metadata": {},
     "output_type": "execute_result"
    }
   ],
   "source": [
    "type(a)"
   ]
  },
  {
   "cell_type": "code",
   "execution_count": 6,
   "metadata": {},
   "outputs": [
    {
     "data": {
      "text/plain": [
       "1"
      ]
     },
     "execution_count": 6,
     "metadata": {},
     "output_type": "execute_result"
    }
   ],
   "source": [
    "a.ndim"
   ]
  },
  {
   "cell_type": "code",
   "execution_count": 7,
   "metadata": {},
   "outputs": [
    {
     "data": {
      "text/plain": [
       "(6,)"
      ]
     },
     "execution_count": 7,
     "metadata": {},
     "output_type": "execute_result"
    }
   ],
   "source": [
    "a.shape"
   ]
  },
  {
   "cell_type": "code",
   "execution_count": 8,
   "metadata": {},
   "outputs": [
    {
     "ename": "TypeError",
     "evalue": "'float' object cannot be interpreted as an integer",
     "output_type": "error",
     "traceback": [
      "\u001b[1;31m---------------------------------------------------------------------------\u001b[0m",
      "\u001b[1;31mTypeError\u001b[0m                                 Traceback (most recent call last)",
      "\u001b[1;32m<ipython-input-8-c733ef6cf9f1>\u001b[0m in \u001b[0;36m<module>\u001b[1;34m\u001b[0m\n\u001b[1;32m----> 1\u001b[1;33m \u001b[0ma\u001b[0m\u001b[1;33m=\u001b[0m\u001b[0mrange\u001b[0m\u001b[1;33m(\u001b[0m\u001b[1;36m1\u001b[0m\u001b[1;33m,\u001b[0m\u001b[1;36m11\u001b[0m\u001b[1;33m,\u001b[0m\u001b[1;36m0.2\u001b[0m\u001b[1;33m)\u001b[0m\u001b[1;33m\u001b[0m\u001b[1;33m\u001b[0m\u001b[0m\n\u001b[0m",
      "\u001b[1;31mTypeError\u001b[0m: 'float' object cannot be interpreted as an integer"
     ]
    }
   ],
   "source": [
    "a=range(1,11,0.2)"
   ]
  },
  {
   "cell_type": "code",
   "execution_count": 9,
   "metadata": {},
   "outputs": [],
   "source": [
    "a=np.arange(1,11,0.2)"
   ]
  },
  {
   "cell_type": "code",
   "execution_count": 10,
   "metadata": {},
   "outputs": [
    {
     "data": {
      "text/plain": [
       "array([ 1. ,  1.2,  1.4,  1.6,  1.8,  2. ,  2.2,  2.4,  2.6,  2.8,  3. ,\n",
       "        3.2,  3.4,  3.6,  3.8,  4. ,  4.2,  4.4,  4.6,  4.8,  5. ,  5.2,\n",
       "        5.4,  5.6,  5.8,  6. ,  6.2,  6.4,  6.6,  6.8,  7. ,  7.2,  7.4,\n",
       "        7.6,  7.8,  8. ,  8.2,  8.4,  8.6,  8.8,  9. ,  9.2,  9.4,  9.6,\n",
       "        9.8, 10. , 10.2, 10.4, 10.6, 10.8])"
      ]
     },
     "execution_count": 10,
     "metadata": {},
     "output_type": "execute_result"
    }
   ],
   "source": [
    "a"
   ]
  },
  {
   "cell_type": "code",
   "execution_count": 11,
   "metadata": {},
   "outputs": [
    {
     "ename": "SyntaxError",
     "evalue": "invalid syntax (<ipython-input-11-1d67122640cd>, line 1)",
     "output_type": "error",
     "traceback": [
      "\u001b[1;36m  File \u001b[1;32m\"<ipython-input-11-1d67122640cd>\"\u001b[1;36m, line \u001b[1;32m1\u001b[0m\n\u001b[1;33m    type a\u001b[0m\n\u001b[1;37m         ^\u001b[0m\n\u001b[1;31mSyntaxError\u001b[0m\u001b[1;31m:\u001b[0m invalid syntax\n"
     ]
    }
   ],
   "source": [
    "type a"
   ]
  },
  {
   "cell_type": "code",
   "execution_count": 12,
   "metadata": {},
   "outputs": [
    {
     "data": {
      "text/plain": [
       "numpy.ndarray"
      ]
     },
     "execution_count": 12,
     "metadata": {},
     "output_type": "execute_result"
    }
   ],
   "source": [
    "type(a)"
   ]
  },
  {
   "cell_type": "code",
   "execution_count": 13,
   "metadata": {},
   "outputs": [],
   "source": [
    "b=np.arange(15)"
   ]
  },
  {
   "cell_type": "code",
   "execution_count": 14,
   "metadata": {},
   "outputs": [
    {
     "data": {
      "text/plain": [
       "array([ 0,  1,  2,  3,  4,  5,  6,  7,  8,  9, 10, 11, 12, 13, 14])"
      ]
     },
     "execution_count": 14,
     "metadata": {},
     "output_type": "execute_result"
    }
   ],
   "source": [
    "b"
   ]
  },
  {
   "cell_type": "code",
   "execution_count": 17,
   "metadata": {},
   "outputs": [
    {
     "data": {
      "text/plain": [
       "(1, (15,))"
      ]
     },
     "execution_count": 17,
     "metadata": {},
     "output_type": "execute_result"
    }
   ],
   "source": [
    "b.ndim,b.shape"
   ]
  },
  {
   "cell_type": "code",
   "execution_count": 16,
   "metadata": {},
   "outputs": [],
   "source": [
    "c=b.reshape(3,5)"
   ]
  },
  {
   "cell_type": "code",
   "execution_count": 18,
   "metadata": {},
   "outputs": [
    {
     "data": {
      "text/plain": [
       "(1, (15,))"
      ]
     },
     "execution_count": 18,
     "metadata": {},
     "output_type": "execute_result"
    }
   ],
   "source": [
    "b.ndim,b.shape"
   ]
  },
  {
   "cell_type": "code",
   "execution_count": 19,
   "metadata": {},
   "outputs": [
    {
     "data": {
      "text/plain": [
       "array([[ 0,  1,  2,  3,  4],\n",
       "       [ 5,  6,  7,  8,  9],\n",
       "       [10, 11, 12, 13, 14]])"
      ]
     },
     "execution_count": 19,
     "metadata": {},
     "output_type": "execute_result"
    }
   ],
   "source": [
    "c"
   ]
  },
  {
   "cell_type": "code",
   "execution_count": 20,
   "metadata": {},
   "outputs": [
    {
     "data": {
      "text/plain": [
       "(2, (3, 5))"
      ]
     },
     "execution_count": 20,
     "metadata": {},
     "output_type": "execute_result"
    }
   ],
   "source": [
    "c.ndim,c.shape"
   ]
  },
  {
   "cell_type": "code",
   "execution_count": 21,
   "metadata": {},
   "outputs": [
    {
     "data": {
      "text/plain": [
       "14"
      ]
     },
     "execution_count": 21,
     "metadata": {},
     "output_type": "execute_result"
    }
   ],
   "source": [
    "c[2][4]"
   ]
  },
  {
   "cell_type": "code",
   "execution_count": 22,
   "metadata": {},
   "outputs": [
    {
     "data": {
      "text/plain": [
       "dtype('int32')"
      ]
     },
     "execution_count": 22,
     "metadata": {},
     "output_type": "execute_result"
    }
   ],
   "source": [
    "c.dtype"
   ]
  },
  {
   "cell_type": "code",
   "execution_count": 23,
   "metadata": {},
   "outputs": [
    {
     "ename": "NameError",
     "evalue": "name 'd' is not defined",
     "output_type": "error",
     "traceback": [
      "\u001b[1;31m---------------------------------------------------------------------------\u001b[0m",
      "\u001b[1;31mNameError\u001b[0m                                 Traceback (most recent call last)",
      "\u001b[1;32m<ipython-input-23-9a369ad76ae5>\u001b[0m in \u001b[0;36m<module>\u001b[1;34m\u001b[0m\n\u001b[1;32m----> 1\u001b[1;33m \u001b[0md\u001b[0m\u001b[1;33m.\u001b[0m\u001b[0mdtype\u001b[0m\u001b[1;33m\u001b[0m\u001b[1;33m\u001b[0m\u001b[0m\n\u001b[0m",
      "\u001b[1;31mNameError\u001b[0m: name 'd' is not defined"
     ]
    }
   ],
   "source": [
    "d.dtype"
   ]
  },
  {
   "cell_type": "code",
   "execution_count": 36,
   "metadata": {},
   "outputs": [],
   "source": [
    "d=np.array([1.2,4,2.,3])"
   ]
  },
  {
   "cell_type": "code",
   "execution_count": 28,
   "metadata": {},
   "outputs": [],
   "source": [
    "d=np.array([1,2,3,4.4])"
   ]
  },
  {
   "cell_type": "code",
   "execution_count": 29,
   "metadata": {},
   "outputs": [
    {
     "data": {
      "text/plain": [
       "dtype('float64')"
      ]
     },
     "execution_count": 29,
     "metadata": {},
     "output_type": "execute_result"
    }
   ],
   "source": [
    "d.dtype"
   ]
  },
  {
   "cell_type": "code",
   "execution_count": 30,
   "metadata": {},
   "outputs": [],
   "source": [
    "e=c.ravel()"
   ]
  },
  {
   "cell_type": "code",
   "execution_count": 31,
   "metadata": {},
   "outputs": [
    {
     "data": {
      "text/plain": [
       "1"
      ]
     },
     "execution_count": 31,
     "metadata": {},
     "output_type": "execute_result"
    }
   ],
   "source": [
    "e.ndim"
   ]
  },
  {
   "cell_type": "code",
   "execution_count": 32,
   "metadata": {},
   "outputs": [
    {
     "data": {
      "text/plain": [
       "(15,)"
      ]
     },
     "execution_count": 32,
     "metadata": {},
     "output_type": "execute_result"
    }
   ],
   "source": [
    "e.shape"
   ]
  },
  {
   "cell_type": "code",
   "execution_count": 34,
   "metadata": {},
   "outputs": [],
   "source": [
    "k=np.zeros((3,6))"
   ]
  },
  {
   "cell_type": "code",
   "execution_count": 35,
   "metadata": {},
   "outputs": [
    {
     "data": {
      "text/plain": [
       "array([[0., 0., 0., 0., 0., 0.],\n",
       "       [0., 0., 0., 0., 0., 0.],\n",
       "       [0., 0., 0., 0., 0., 0.]])"
      ]
     },
     "execution_count": 35,
     "metadata": {},
     "output_type": "execute_result"
    }
   ],
   "source": [
    "k"
   ]
  },
  {
   "cell_type": "code",
   "execution_count": 37,
   "metadata": {},
   "outputs": [],
   "source": [
    "q=np.ones((3,6))"
   ]
  },
  {
   "cell_type": "code",
   "execution_count": 38,
   "metadata": {},
   "outputs": [
    {
     "data": {
      "text/plain": [
       "array([[1., 1., 1., 1., 1., 1.],\n",
       "       [1., 1., 1., 1., 1., 1.],\n",
       "       [1., 1., 1., 1., 1., 1.]])"
      ]
     },
     "execution_count": 38,
     "metadata": {},
     "output_type": "execute_result"
    }
   ],
   "source": [
    "q"
   ]
  },
  {
   "cell_type": "code",
   "execution_count": 39,
   "metadata": {},
   "outputs": [],
   "source": [
    "l=np.linspace(1,10,500)"
   ]
  },
  {
   "cell_type": "code",
   "execution_count": 40,
   "metadata": {},
   "outputs": [
    {
     "data": {
      "text/plain": [
       "array([ 1.        ,  1.01803607,  1.03607214,  1.05410822,  1.07214429,\n",
       "        1.09018036,  1.10821643,  1.12625251,  1.14428858,  1.16232465,\n",
       "        1.18036072,  1.19839679,  1.21643287,  1.23446894,  1.25250501,\n",
       "        1.27054108,  1.28857715,  1.30661323,  1.3246493 ,  1.34268537,\n",
       "        1.36072144,  1.37875752,  1.39679359,  1.41482966,  1.43286573,\n",
       "        1.4509018 ,  1.46893788,  1.48697395,  1.50501002,  1.52304609,\n",
       "        1.54108216,  1.55911824,  1.57715431,  1.59519038,  1.61322645,\n",
       "        1.63126253,  1.6492986 ,  1.66733467,  1.68537074,  1.70340681,\n",
       "        1.72144289,  1.73947896,  1.75751503,  1.7755511 ,  1.79358717,\n",
       "        1.81162325,  1.82965932,  1.84769539,  1.86573146,  1.88376754,\n",
       "        1.90180361,  1.91983968,  1.93787575,  1.95591182,  1.9739479 ,\n",
       "        1.99198397,  2.01002004,  2.02805611,  2.04609218,  2.06412826,\n",
       "        2.08216433,  2.1002004 ,  2.11823647,  2.13627255,  2.15430862,\n",
       "        2.17234469,  2.19038076,  2.20841683,  2.22645291,  2.24448898,\n",
       "        2.26252505,  2.28056112,  2.29859719,  2.31663327,  2.33466934,\n",
       "        2.35270541,  2.37074148,  2.38877756,  2.40681363,  2.4248497 ,\n",
       "        2.44288577,  2.46092184,  2.47895792,  2.49699399,  2.51503006,\n",
       "        2.53306613,  2.5511022 ,  2.56913828,  2.58717435,  2.60521042,\n",
       "        2.62324649,  2.64128257,  2.65931864,  2.67735471,  2.69539078,\n",
       "        2.71342685,  2.73146293,  2.749499  ,  2.76753507,  2.78557114,\n",
       "        2.80360721,  2.82164329,  2.83967936,  2.85771543,  2.8757515 ,\n",
       "        2.89378758,  2.91182365,  2.92985972,  2.94789579,  2.96593186,\n",
       "        2.98396794,  3.00200401,  3.02004008,  3.03807615,  3.05611222,\n",
       "        3.0741483 ,  3.09218437,  3.11022044,  3.12825651,  3.14629259,\n",
       "        3.16432866,  3.18236473,  3.2004008 ,  3.21843687,  3.23647295,\n",
       "        3.25450902,  3.27254509,  3.29058116,  3.30861723,  3.32665331,\n",
       "        3.34468938,  3.36272545,  3.38076152,  3.3987976 ,  3.41683367,\n",
       "        3.43486974,  3.45290581,  3.47094188,  3.48897796,  3.50701403,\n",
       "        3.5250501 ,  3.54308617,  3.56112224,  3.57915832,  3.59719439,\n",
       "        3.61523046,  3.63326653,  3.65130261,  3.66933868,  3.68737475,\n",
       "        3.70541082,  3.72344689,  3.74148297,  3.75951904,  3.77755511,\n",
       "        3.79559118,  3.81362725,  3.83166333,  3.8496994 ,  3.86773547,\n",
       "        3.88577154,  3.90380762,  3.92184369,  3.93987976,  3.95791583,\n",
       "        3.9759519 ,  3.99398798,  4.01202405,  4.03006012,  4.04809619,\n",
       "        4.06613226,  4.08416834,  4.10220441,  4.12024048,  4.13827655,\n",
       "        4.15631263,  4.1743487 ,  4.19238477,  4.21042084,  4.22845691,\n",
       "        4.24649299,  4.26452906,  4.28256513,  4.3006012 ,  4.31863727,\n",
       "        4.33667335,  4.35470942,  4.37274549,  4.39078156,  4.40881764,\n",
       "        4.42685371,  4.44488978,  4.46292585,  4.48096192,  4.498998  ,\n",
       "        4.51703407,  4.53507014,  4.55310621,  4.57114228,  4.58917836,\n",
       "        4.60721443,  4.6252505 ,  4.64328657,  4.66132265,  4.67935872,\n",
       "        4.69739479,  4.71543086,  4.73346693,  4.75150301,  4.76953908,\n",
       "        4.78757515,  4.80561122,  4.82364729,  4.84168337,  4.85971944,\n",
       "        4.87775551,  4.89579158,  4.91382766,  4.93186373,  4.9498998 ,\n",
       "        4.96793587,  4.98597194,  5.00400802,  5.02204409,  5.04008016,\n",
       "        5.05811623,  5.0761523 ,  5.09418838,  5.11222445,  5.13026052,\n",
       "        5.14829659,  5.16633267,  5.18436874,  5.20240481,  5.22044088,\n",
       "        5.23847695,  5.25651303,  5.2745491 ,  5.29258517,  5.31062124,\n",
       "        5.32865731,  5.34669339,  5.36472946,  5.38276553,  5.4008016 ,\n",
       "        5.41883768,  5.43687375,  5.45490982,  5.47294589,  5.49098196,\n",
       "        5.50901804,  5.52705411,  5.54509018,  5.56312625,  5.58116232,\n",
       "        5.5991984 ,  5.61723447,  5.63527054,  5.65330661,  5.67134269,\n",
       "        5.68937876,  5.70741483,  5.7254509 ,  5.74348697,  5.76152305,\n",
       "        5.77955912,  5.79759519,  5.81563126,  5.83366733,  5.85170341,\n",
       "        5.86973948,  5.88777555,  5.90581162,  5.9238477 ,  5.94188377,\n",
       "        5.95991984,  5.97795591,  5.99599198,  6.01402806,  6.03206413,\n",
       "        6.0501002 ,  6.06813627,  6.08617234,  6.10420842,  6.12224449,\n",
       "        6.14028056,  6.15831663,  6.17635271,  6.19438878,  6.21242485,\n",
       "        6.23046092,  6.24849699,  6.26653307,  6.28456914,  6.30260521,\n",
       "        6.32064128,  6.33867735,  6.35671343,  6.3747495 ,  6.39278557,\n",
       "        6.41082164,  6.42885772,  6.44689379,  6.46492986,  6.48296593,\n",
       "        6.501002  ,  6.51903808,  6.53707415,  6.55511022,  6.57314629,\n",
       "        6.59118236,  6.60921844,  6.62725451,  6.64529058,  6.66332665,\n",
       "        6.68136273,  6.6993988 ,  6.71743487,  6.73547094,  6.75350701,\n",
       "        6.77154309,  6.78957916,  6.80761523,  6.8256513 ,  6.84368737,\n",
       "        6.86172345,  6.87975952,  6.89779559,  6.91583166,  6.93386774,\n",
       "        6.95190381,  6.96993988,  6.98797595,  7.00601202,  7.0240481 ,\n",
       "        7.04208417,  7.06012024,  7.07815631,  7.09619238,  7.11422846,\n",
       "        7.13226453,  7.1503006 ,  7.16833667,  7.18637275,  7.20440882,\n",
       "        7.22244489,  7.24048096,  7.25851703,  7.27655311,  7.29458918,\n",
       "        7.31262525,  7.33066132,  7.34869739,  7.36673347,  7.38476954,\n",
       "        7.40280561,  7.42084168,  7.43887776,  7.45691383,  7.4749499 ,\n",
       "        7.49298597,  7.51102204,  7.52905812,  7.54709419,  7.56513026,\n",
       "        7.58316633,  7.6012024 ,  7.61923848,  7.63727455,  7.65531062,\n",
       "        7.67334669,  7.69138277,  7.70941884,  7.72745491,  7.74549098,\n",
       "        7.76352705,  7.78156313,  7.7995992 ,  7.81763527,  7.83567134,\n",
       "        7.85370741,  7.87174349,  7.88977956,  7.90781563,  7.9258517 ,\n",
       "        7.94388778,  7.96192385,  7.97995992,  7.99799599,  8.01603206,\n",
       "        8.03406814,  8.05210421,  8.07014028,  8.08817635,  8.10621242,\n",
       "        8.1242485 ,  8.14228457,  8.16032064,  8.17835671,  8.19639279,\n",
       "        8.21442886,  8.23246493,  8.250501  ,  8.26853707,  8.28657315,\n",
       "        8.30460922,  8.32264529,  8.34068136,  8.35871743,  8.37675351,\n",
       "        8.39478958,  8.41282565,  8.43086172,  8.4488978 ,  8.46693387,\n",
       "        8.48496994,  8.50300601,  8.52104208,  8.53907816,  8.55711423,\n",
       "        8.5751503 ,  8.59318637,  8.61122244,  8.62925852,  8.64729459,\n",
       "        8.66533066,  8.68336673,  8.70140281,  8.71943888,  8.73747495,\n",
       "        8.75551102,  8.77354709,  8.79158317,  8.80961924,  8.82765531,\n",
       "        8.84569138,  8.86372745,  8.88176353,  8.8997996 ,  8.91783567,\n",
       "        8.93587174,  8.95390782,  8.97194389,  8.98997996,  9.00801603,\n",
       "        9.0260521 ,  9.04408818,  9.06212425,  9.08016032,  9.09819639,\n",
       "        9.11623246,  9.13426854,  9.15230461,  9.17034068,  9.18837675,\n",
       "        9.20641283,  9.2244489 ,  9.24248497,  9.26052104,  9.27855711,\n",
       "        9.29659319,  9.31462926,  9.33266533,  9.3507014 ,  9.36873747,\n",
       "        9.38677355,  9.40480962,  9.42284569,  9.44088176,  9.45891784,\n",
       "        9.47695391,  9.49498998,  9.51302605,  9.53106212,  9.5490982 ,\n",
       "        9.56713427,  9.58517034,  9.60320641,  9.62124248,  9.63927856,\n",
       "        9.65731463,  9.6753507 ,  9.69338677,  9.71142285,  9.72945892,\n",
       "        9.74749499,  9.76553106,  9.78356713,  9.80160321,  9.81963928,\n",
       "        9.83767535,  9.85571142,  9.87374749,  9.89178357,  9.90981964,\n",
       "        9.92785571,  9.94589178,  9.96392786,  9.98196393, 10.        ])"
      ]
     },
     "execution_count": 40,
     "metadata": {},
     "output_type": "execute_result"
    }
   ],
   "source": [
    "l"
   ]
  },
  {
   "cell_type": "code",
   "execution_count": null,
   "metadata": {},
   "outputs": [],
   "source": []
  }
 ],
 "metadata": {
  "kernelspec": {
   "display_name": "Python 3",
   "language": "python",
   "name": "python3"
  },
  "language_info": {
   "codemirror_mode": {
    "name": "ipython",
    "version": 3
   },
   "file_extension": ".py",
   "mimetype": "text/x-python",
   "name": "python",
   "nbconvert_exporter": "python",
   "pygments_lexer": "ipython3",
   "version": "3.7.3"
  }
 },
 "nbformat": 4,
 "nbformat_minor": 2
}
